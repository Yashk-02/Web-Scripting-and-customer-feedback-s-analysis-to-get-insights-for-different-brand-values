{
 "cells": [
  {
   "cell_type": "code",
   "execution_count": 1,
   "metadata": {},
   "outputs": [],
   "source": [
    "# Web scraper for Edmunds\n",
    "# Selenium is used to handle the javascript on a website\n",
    "\n",
    "#Importing libraries\n",
    "from selenium import webdriver\n",
    "from selenium.webdriver.common.keys import Keys\n",
    "from bs4 import BeautifulSoup\n",
    "import re\n",
    "import pandas as pd\n",
    "import os     #to manipulate files\n",
    "\n",
    "import warnings\n",
    "warnings.filterwarnings('ignore')"
   ]
  },
  {
   "cell_type": "code",
   "execution_count": 46,
   "metadata": {
    "scrolled": true
   },
   "outputs": [],
   "source": [
    "chrome_path = r\"E:\\Chrome Driver\\chromedriver.exe\"\n",
    "driver = webdriver.Chrome(chrome_path) # This will open up a chrome window"
   ]
  },
  {
   "cell_type": "code",
   "execution_count": 47,
   "metadata": {},
   "outputs": [],
   "source": [
    "Page = 2342\n",
    "url = \"https://forums.edmunds.com/discussion/18576/general/x/edmunds-members-cars-conversations/p\" + str(Page)"
   ]
  },
  {
   "cell_type": "code",
   "execution_count": 48,
   "metadata": {},
   "outputs": [],
   "source": [
    "driver.get(url)"
   ]
  },
  {
   "cell_type": "code",
   "execution_count": 49,
   "metadata": {},
   "outputs": [],
   "source": [
    "userlist = []\n",
    "datelist = []\n",
    "postlist = []\n",
    "quotelist = []\n",
    "while len(postlist)<5000:\n",
    "    #User\n",
    "    users = driver.find_elements_by_class_name('Username')\n",
    "    for user in users:\n",
    "        userlist.append(user.text)\n",
    "    \n",
    "    #Date\n",
    "    dates = driver.find_elements_by_class_name('DateCreated')\n",
    "    for date in dates:\n",
    "        datelist.append(date.text)\n",
    "    \n",
    "    # This is the list of all the comments\n",
    "    posts = driver.find_elements_by_class_name('Item-Body')\n",
    "    for post in posts:\n",
    "        postlist.append(post.text)\n",
    "\n",
    "    # This is the list of the blockquotes that you don't want\n",
    "    quotes = driver.find_elements_by_class_name('Quote')\n",
    "    for quote in quotes:\n",
    "        quotelist.append(quote.text)\n",
    "        \n",
    "    Page = Page - 1                    \n",
    "    url = \"https://forums.edmunds.com/discussion/18576/general/x/edmunds-members-cars-conversations/p\" + str(Page)\n",
    "\n",
    "    driver.get(url)"
   ]
  },
  {
   "cell_type": "code",
   "execution_count": 54,
   "metadata": {},
   "outputs": [],
   "source": [
    "# Now you have to delete quotes from the posts\n",
    "for j in range(0,len(quotelist)):\n",
    "    for i in range(0,len(postlist)):\n",
    "        if (quotelist[j] in postlist[i]):\n",
    "            postlist[i]=postlist[i].replace(quotelist[j],'')"
   ]
  },
  {
   "cell_type": "code",
   "execution_count": 55,
   "metadata": {},
   "outputs": [],
   "source": [
    "df_raw = pd.DataFrame(datelist)\n",
    "df_raw['Users'] = userlist\n",
    "df_raw['Text'] = postlist\n",
    "df_raw.columns = ['Date','User','Text']"
   ]
  },
  {
   "cell_type": "code",
   "execution_count": 56,
   "metadata": {},
   "outputs": [],
   "source": [
    "postfile_name = r'E:\\Extra Projects\\Web Scrapping\\Posts.csv'\n",
    "df_raw.to_csv(postfile_name)"
   ]
  }
 ],
 "metadata": {
  "kernelspec": {
   "display_name": "Python 3",
   "language": "python",
   "name": "python3"
  },
  "language_info": {
   "codemirror_mode": {
    "name": "ipython",
    "version": 3
   },
   "file_extension": ".py",
   "mimetype": "text/x-python",
   "name": "python",
   "nbconvert_exporter": "python",
   "pygments_lexer": "ipython3",
   "version": "3.8.3"
  }
 },
 "nbformat": 4,
 "nbformat_minor": 4
}
